{
  "nbformat": 4,
  "nbformat_minor": 0,
  "metadata": {
    "colab": {
      "provenance": []
    },
    "kernelspec": {
      "name": "python3",
      "display_name": "Python 3"
    },
    "language_info": {
      "name": "python"
    }
  },
  "cells": [
    {
      "cell_type": "markdown",
      "source": [
        "# Statistics Advanced\n",
        "1: What is a random variable in probability theory?\n",
        "-->A random variable is a numerical quantity whose value depends on the outcome of a random event. It assigns a numeric value to each possible result in a sample space. Random variables can be discrete (finite outcomes like dice rolls) or continuous (infinitely many values like temperature readings).\n",
        "\n",
        "2: What are the types of random variables?\n",
        "-->There are two main types of random variables:\n",
        "Discrete Random Variable: Takes countable values (e.g., number of heads in coin tosses).\n",
        "Continuous Random Variable: Takes uncountably infinite values (e.g., height, weight, time).\n",
        "\n",
        "3: Explain the difference between discrete and continuous distributions.\n",
        "-->Discrete distributions describe outcomes that take specific separate values (e.g., Binomial, Poisson).\n",
        "Continuous distributions describe outcomes that can take any value within a range (e.g., Normal, Exponential).\n",
        "The probabilities of discrete values sum to 1, while continuous distributions use probability density functions (PDFs) integrated over intervals.\n",
        "\n",
        "4: What is a binomial distribution, and how is it used in probability?\n",
        "-->A binomial distribution represents the number of successes in a fixed number of independent trials with the same probability of success.\n",
        "\n",
        "5: What is the standard normal distribution, and why is it important?\n",
        "-->The standard normal distribution is a normal distribution with a mean of 0 and a standard deviation of 1. It is used for z‑score normalization, enabling comparison of data across different normal distributions and for calculating probabilities using standard z‑tables.\n",
        "\n",
        "6: What is the Central Limit Theorem (CLT), and why is it critical in statistics?\n",
        "-->The Central Limit Theorem (CLT) states that the sampling distribution of the sample mean approaches a normal distribution as the sample size (n) increases, regardless of the population’s distribution.\n",
        "It’s critical because it justifies using normal-based inference methods (confidence intervals, z-tests) even when the population distribution is not normal.\n",
        "\n",
        "7: What is the significance of confidence intervals in statistical analysis?\n",
        "-->A confidence interval (CI) gives a range of values within which the true population parameter is likely to fall, with a specified level of confidence (e.g., 95%). It quantifies the uncertainty of an estimate and is fundamental for inferential analysis.\n",
        "\n",
        "8:What is the concept of expected value in a probability distribution?\n",
        "-->The expected value (mean) of a random variable represents the long-run average outcome of repeated experiments.\n"
      ],
      "metadata": {
        "id": "kVH-enDz43Lf"
      }
    },
    {
      "cell_type": "code",
      "source": [
        "#9: Python program to generate 1000 random numbers from a normal distribution\n",
        "import numpy as np\n",
        "import matplotlib.pyplot as plt\n",
        "\n",
        "# Generate 1000 random numbers\n",
        "data = np.random.normal(loc=50, scale=5, size=1000)\n",
        "\n",
        "# Compute mean and standard deviation\n",
        "mean = np.mean(data)\n",
        "std_dev = np.std(data)\n",
        "\n",
        "print(\"Mean:\", mean)\n",
        "print(\"Standard Deviation:\", std_dev)\n",
        "\n",
        "# Plot histogram\n",
        "plt.hist(data, bins=30, color='skyblue', edgecolor='black')\n",
        "plt.title(\"Normal Distribution (Mean=50, SD=5)\")\n",
        "plt.xlabel(\"Value\")\n",
        "plt.ylabel(\"Frequency\")\n",
        "plt.show()\n"
      ],
      "metadata": {
        "colab": {
          "base_uri": "https://localhost:8080/",
          "height": 508
        },
        "id": "-MOpAmu-6-TP",
        "outputId": "e21e24f7-04a1-40a3-8689-cbcf08233e4d"
      },
      "execution_count": 1,
      "outputs": [
        {
          "output_type": "stream",
          "name": "stdout",
          "text": [
            "Mean: 49.942509324656086\n",
            "Standard Deviation: 4.8126831886876245\n"
          ]
        },
        {
          "output_type": "display_data",
          "data": {
            "text/plain": [
              "<Figure size 640x480 with 1 Axes>"
            ],
            "image/png": "[encoded data removed]"
          },
          "metadata": {}
        }
      ]
    },
    {
      "cell_type": "code",
      "source": [
        "#10: Applying the CLT to estimate average sales with a 95% confidence\n",
        "import numpy as np\n",
        "import scipy.stats as st\n",
        "\n",
        "daily_sales = [220, 245, 210, 265, 230, 250, 260, 275, 240, 255,\n",
        "               235, 260, 245, 250, 225, 270, 265, 255, 250, 260]\n",
        "\n",
        "# Calculate statistics\n",
        "mean_sales = np.mean(daily_sales)\n",
        "std_sales = np.std(daily_sales, ddof=1)\n",
        "n = len(daily_sales)\n",
        "\n",
        "# 95% Confidence Interval\n",
        "confidence = 0.95\n",
        "z = st.norm.ppf(1 - (1 - confidence) / 2)\n",
        "margin = z * (std_sales / np.sqrt(n))\n",
        "lower = mean_sales - margin\n",
        "upper = mean_sales + margin\n",
        "\n",
        "print(f\"Mean Sales: {mean_sales:.2f}\")\n",
        "print(f\"95% Confidence Interval: ({lower:.2f}, {upper:.2f})\")\n"
      ],
      "metadata": {
        "colab": {
          "base_uri": "https://localhost:8080/"
        },
        "id": "NWPW9O-Z7Gxc",
        "outputId": "217d34d6-9d76-48c7-d9b6-939d78b9a6d3"
      },
      "execution_count": 2,
      "outputs": [
        {
          "output_type": "stream",
          "name": "stdout",
          "text": [
            "Mean Sales: 248.25\n",
            "95% Confidence Interval: (240.68, 255.82)\n"
          ]
        }
      ]
    },
    {
      "cell_type": "code",
      "source": [],
      "metadata": {
        "id": "r5azKD1h7VBp"
      },
      "execution_count": null,
      "outputs": []
    }
  ]
}